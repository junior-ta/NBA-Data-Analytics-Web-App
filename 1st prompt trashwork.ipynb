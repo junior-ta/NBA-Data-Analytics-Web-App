{
 "cells": [
  {
   "cell_type": "code",
   "execution_count": 1,
   "metadata": {},
   "outputs": [],
   "source": [
    "import csv\n",
    "import pandas as pd\n",
    "import matplotlib.pyplot as plt\n"
   ]
  },
  {
   "cell_type": "code",
   "execution_count": 20,
   "metadata": {},
   "outputs": [],
   "source": [
    "df= pd.read_csv(r\"C:\\Users\\ttjrb\\OneDrive\\Desktop\\University Important\\summer 2024 work\\projects\\databases\\ALL 1320 nba games 2022-23\\basic.csv\",index_col='name',usecols=('name','SEC','FGpct','3PM','3Ppct','FTM','FTpct','ORB','TRB','AST','STL','BLK','TOV','PTS','plusminusPTS'))\n",
    "Adf=pd.read_csv(r\"C:\\Users\\ttjrb\\OneDrive\\Desktop\\University Important\\summer 2024 work\\projects\\databases\\ALL 1320 nba games 2022-23\\advanced.csv\",index_col='name',usecols=('name','USGpct','DEFRTG'))"
   ]
  },
  {
   "cell_type": "code",
   "execution_count": null,
   "metadata": {},
   "outputs": [],
   "source": [
    "#creating a per game table with stats I need\n",
    "# to be eligible, they need to have play at least 58 games"
   ]
  },
  {
   "cell_type": "code",
   "execution_count": 27,
   "metadata": {},
   "outputs": [
    {
     "data": {
      "text/html": [
       "<div>\n",
       "<style scoped>\n",
       "    .dataframe tbody tr th:only-of-type {\n",
       "        vertical-align: middle;\n",
       "    }\n",
       "\n",
       "    .dataframe tbody tr th {\n",
       "        vertical-align: top;\n",
       "    }\n",
       "\n",
       "    .dataframe thead th {\n",
       "        text-align: right;\n",
       "    }\n",
       "</style>\n",
       "<table border=\"1\" class=\"dataframe\">\n",
       "  <thead>\n",
       "    <tr style=\"text-align: right;\">\n",
       "      <th></th>\n",
       "      <th>SEC</th>\n",
       "      <th>FGpct</th>\n",
       "      <th>3PM</th>\n",
       "      <th>3Ppct</th>\n",
       "      <th>FTM</th>\n",
       "      <th>FTpct</th>\n",
       "      <th>ORB</th>\n",
       "      <th>TRB</th>\n",
       "      <th>AST</th>\n",
       "      <th>STL</th>\n",
       "      <th>BLK</th>\n",
       "      <th>TOV</th>\n",
       "      <th>PTS</th>\n",
       "      <th>plusminusPTS</th>\n",
       "    </tr>\n",
       "    <tr>\n",
       "      <th>name</th>\n",
       "      <th></th>\n",
       "      <th></th>\n",
       "      <th></th>\n",
       "      <th></th>\n",
       "      <th></th>\n",
       "      <th></th>\n",
       "      <th></th>\n",
       "      <th></th>\n",
       "      <th></th>\n",
       "      <th></th>\n",
       "      <th></th>\n",
       "      <th></th>\n",
       "      <th></th>\n",
       "      <th></th>\n",
       "    </tr>\n",
       "  </thead>\n",
       "  <tbody>\n",
       "    <tr>\n",
       "      <th>Jaylen Brown</th>\n",
       "      <td>2314.0</td>\n",
       "      <td>0.583</td>\n",
       "      <td>4</td>\n",
       "      <td>0.333</td>\n",
       "      <td>3</td>\n",
       "      <td>1.000</td>\n",
       "      <td>0</td>\n",
       "      <td>3</td>\n",
       "      <td>2</td>\n",
       "      <td>2</td>\n",
       "      <td>1</td>\n",
       "      <td>4</td>\n",
       "      <td>35</td>\n",
       "      <td>7</td>\n",
       "    </tr>\n",
       "    <tr>\n",
       "      <th>Jaylen Brown</th>\n",
       "      <td>2041.0</td>\n",
       "      <td>0.667</td>\n",
       "      <td>2</td>\n",
       "      <td>0.667</td>\n",
       "      <td>2</td>\n",
       "      <td>1.000</td>\n",
       "      <td>1</td>\n",
       "      <td>4</td>\n",
       "      <td>3</td>\n",
       "      <td>2</td>\n",
       "      <td>2</td>\n",
       "      <td>3</td>\n",
       "      <td>28</td>\n",
       "      <td>-4</td>\n",
       "    </tr>\n",
       "    <tr>\n",
       "      <th>Jaylen Brown</th>\n",
       "      <td>2250.0</td>\n",
       "      <td>0.250</td>\n",
       "      <td>1</td>\n",
       "      <td>0.167</td>\n",
       "      <td>3</td>\n",
       "      <td>0.750</td>\n",
       "      <td>1</td>\n",
       "      <td>9</td>\n",
       "      <td>4</td>\n",
       "      <td>1</td>\n",
       "      <td>1</td>\n",
       "      <td>2</td>\n",
       "      <td>12</td>\n",
       "      <td>14</td>\n",
       "    </tr>\n",
       "    <tr>\n",
       "      <th>Jaylen Brown</th>\n",
       "      <td>2123.0</td>\n",
       "      <td>0.348</td>\n",
       "      <td>2</td>\n",
       "      <td>0.286</td>\n",
       "      <td>3</td>\n",
       "      <td>0.750</td>\n",
       "      <td>3</td>\n",
       "      <td>6</td>\n",
       "      <td>2</td>\n",
       "      <td>0</td>\n",
       "      <td>2</td>\n",
       "      <td>1</td>\n",
       "      <td>21</td>\n",
       "      <td>-10</td>\n",
       "    </tr>\n",
       "    <tr>\n",
       "      <th>Jaylen Brown</th>\n",
       "      <td>2568.0</td>\n",
       "      <td>0.500</td>\n",
       "      <td>2</td>\n",
       "      <td>0.286</td>\n",
       "      <td>8</td>\n",
       "      <td>0.667</td>\n",
       "      <td>0</td>\n",
       "      <td>8</td>\n",
       "      <td>4</td>\n",
       "      <td>2</td>\n",
       "      <td>0</td>\n",
       "      <td>6</td>\n",
       "      <td>32</td>\n",
       "      <td>-21</td>\n",
       "    </tr>\n",
       "    <tr>\n",
       "      <th>...</th>\n",
       "      <td>...</td>\n",
       "      <td>...</td>\n",
       "      <td>...</td>\n",
       "      <td>...</td>\n",
       "      <td>...</td>\n",
       "      <td>...</td>\n",
       "      <td>...</td>\n",
       "      <td>...</td>\n",
       "      <td>...</td>\n",
       "      <td>...</td>\n",
       "      <td>...</td>\n",
       "      <td>...</td>\n",
       "      <td>...</td>\n",
       "      <td>...</td>\n",
       "    </tr>\n",
       "    <tr>\n",
       "      <th>Jaylen Brown</th>\n",
       "      <td>1681.0</td>\n",
       "      <td>0.353</td>\n",
       "      <td>0</td>\n",
       "      <td>0.000</td>\n",
       "      <td>0</td>\n",
       "      <td>0.000</td>\n",
       "      <td>2</td>\n",
       "      <td>6</td>\n",
       "      <td>2</td>\n",
       "      <td>0</td>\n",
       "      <td>0</td>\n",
       "      <td>3</td>\n",
       "      <td>12</td>\n",
       "      <td>-28</td>\n",
       "    </tr>\n",
       "    <tr>\n",
       "      <th>Jaylen Brown</th>\n",
       "      <td>2239.0</td>\n",
       "      <td>0.438</td>\n",
       "      <td>1</td>\n",
       "      <td>0.200</td>\n",
       "      <td>2</td>\n",
       "      <td>0.400</td>\n",
       "      <td>0</td>\n",
       "      <td>4</td>\n",
       "      <td>4</td>\n",
       "      <td>2</td>\n",
       "      <td>0</td>\n",
       "      <td>1</td>\n",
       "      <td>17</td>\n",
       "      <td>9</td>\n",
       "    </tr>\n",
       "    <tr>\n",
       "      <th>Jaylen Brown</th>\n",
       "      <td>2212.0</td>\n",
       "      <td>0.500</td>\n",
       "      <td>3</td>\n",
       "      <td>0.600</td>\n",
       "      <td>0</td>\n",
       "      <td>0.000</td>\n",
       "      <td>2</td>\n",
       "      <td>2</td>\n",
       "      <td>2</td>\n",
       "      <td>3</td>\n",
       "      <td>0</td>\n",
       "      <td>1</td>\n",
       "      <td>21</td>\n",
       "      <td>16</td>\n",
       "    </tr>\n",
       "    <tr>\n",
       "      <th>Jaylen Brown</th>\n",
       "      <td>2338.0</td>\n",
       "      <td>0.563</td>\n",
       "      <td>0</td>\n",
       "      <td>0.000</td>\n",
       "      <td>8</td>\n",
       "      <td>0.800</td>\n",
       "      <td>5</td>\n",
       "      <td>10</td>\n",
       "      <td>3</td>\n",
       "      <td>2</td>\n",
       "      <td>0</td>\n",
       "      <td>4</td>\n",
       "      <td>26</td>\n",
       "      <td>7</td>\n",
       "    </tr>\n",
       "    <tr>\n",
       "      <th>Jaylen Brown</th>\n",
       "      <td>2585.0</td>\n",
       "      <td>0.348</td>\n",
       "      <td>1</td>\n",
       "      <td>0.111</td>\n",
       "      <td>2</td>\n",
       "      <td>1.000</td>\n",
       "      <td>0</td>\n",
       "      <td>8</td>\n",
       "      <td>5</td>\n",
       "      <td>1</td>\n",
       "      <td>2</td>\n",
       "      <td>8</td>\n",
       "      <td>19</td>\n",
       "      <td>-17</td>\n",
       "    </tr>\n",
       "  </tbody>\n",
       "</table>\n",
       "<p>88 rows × 14 columns</p>\n",
       "</div>"
      ],
      "text/plain": [
       "                 SEC  FGpct  3PM  3Ppct  FTM  FTpct  ORB  TRB  AST  STL  BLK  \\\n",
       "name                                                                           \n",
       "Jaylen Brown  2314.0  0.583    4  0.333    3  1.000    0    3    2    2    1   \n",
       "Jaylen Brown  2041.0  0.667    2  0.667    2  1.000    1    4    3    2    2   \n",
       "Jaylen Brown  2250.0  0.250    1  0.167    3  0.750    1    9    4    1    1   \n",
       "Jaylen Brown  2123.0  0.348    2  0.286    3  0.750    3    6    2    0    2   \n",
       "Jaylen Brown  2568.0  0.500    2  0.286    8  0.667    0    8    4    2    0   \n",
       "...              ...    ...  ...    ...  ...    ...  ...  ...  ...  ...  ...   \n",
       "Jaylen Brown  1681.0  0.353    0  0.000    0  0.000    2    6    2    0    0   \n",
       "Jaylen Brown  2239.0  0.438    1  0.200    2  0.400    0    4    4    2    0   \n",
       "Jaylen Brown  2212.0  0.500    3  0.600    0  0.000    2    2    2    3    0   \n",
       "Jaylen Brown  2338.0  0.563    0  0.000    8  0.800    5   10    3    2    0   \n",
       "Jaylen Brown  2585.0  0.348    1  0.111    2  1.000    0    8    5    1    2   \n",
       "\n",
       "              TOV  PTS  plusminusPTS  \n",
       "name                                  \n",
       "Jaylen Brown    4   35             7  \n",
       "Jaylen Brown    3   28            -4  \n",
       "Jaylen Brown    2   12            14  \n",
       "Jaylen Brown    1   21           -10  \n",
       "Jaylen Brown    6   32           -21  \n",
       "...           ...  ...           ...  \n",
       "Jaylen Brown    3   12           -28  \n",
       "Jaylen Brown    1   17             9  \n",
       "Jaylen Brown    1   21            16  \n",
       "Jaylen Brown    4   26             7  \n",
       "Jaylen Brown    8   19           -17  \n",
       "\n",
       "[88 rows x 14 columns]"
      ]
     },
     "execution_count": 27,
     "metadata": {},
     "output_type": "execute_result"
    }
   ],
   "source": [
    "df.loc['Jaylen Brown']"
   ]
  },
  {
   "cell_type": "code",
   "execution_count": 23,
   "metadata": {},
   "outputs": [],
   "source": [
    "player= df.loc['Jaylen Brown']"
   ]
  },
  {
   "cell_type": "code",
   "execution_count": 33,
   "metadata": {},
   "outputs": [
    {
     "data": {
      "text/plain": [
       "88"
      ]
     },
     "execution_count": 33,
     "metadata": {},
     "output_type": "execute_result"
    }
   ],
   "source": [
    "len(player)"
   ]
  },
  {
   "cell_type": "code",
   "execution_count": 25,
   "metadata": {},
   "outputs": [
    {
     "name": "stdout",
     "output_type": "stream",
     "text": [
      "he is eligible\n"
     ]
    }
   ],
   "source": [
    "if len(player)>58:\n",
    "    print('he is eligible')\n",
    "else:\n",
    "    print('he is not eligible')"
   ]
  },
  {
   "cell_type": "code",
   "execution_count": 32,
   "metadata": {},
   "outputs": [
    {
     "data": {
      "text/plain": [
       "SEC             2176.632184\n",
       "FGpct              0.487761\n",
       "3PM                2.306818\n",
       "3Ppct              0.328420\n",
       "FTM                3.568182\n",
       "FTpct              0.689636\n",
       "ORB                1.170455\n",
       "TRB                6.488636\n",
       "AST                3.409091\n",
       "STL                1.090909\n",
       "BLK                0.386364\n",
       "TOV                2.988636\n",
       "PTS               25.420455\n",
       "plusminusPTS       3.386364\n",
       "dtype: float64"
      ]
     },
     "execution_count": 32,
     "metadata": {},
     "output_type": "execute_result"
    }
   ],
   "source": [
    "player.mean()"
   ]
  },
  {
   "cell_type": "code",
   "execution_count": 45,
   "metadata": {},
   "outputs": [],
   "source": [
    "avg= player.mean()"
   ]
  },
  {
   "cell_type": "code",
   "execution_count": 51,
   "metadata": {},
   "outputs": [],
   "source": [
    "desiredCategory=['SEC','3PM','3Ppct','FTpct','ORB','TRB','AST','STL','BLK','TOV','PTS','plusminusPTS']\n",
    "desiredStats=[]\n",
    "for i in range(len(desiredCategory)):\n",
    "    desiredStats.append(avg[desiredCategory[i]])\n",
    "    "
   ]
  },
  {
   "cell_type": "code",
   "execution_count": null,
   "metadata": {},
   "outputs": [],
   "source": [
    "#using list of dictionaries"
   ]
  },
  {
   "cell_type": "code",
   "execution_count": 53,
   "metadata": {},
   "outputs": [],
   "source": [
    "jbDict={}\n",
    "\n",
    "for i in range(len(desiredCategory)):\n",
    "    jbDict[desiredCategory[i]]=desiredStats[i]"
   ]
  },
  {
   "cell_type": "code",
   "execution_count": 61,
   "metadata": {},
   "outputs": [
    {
     "name": "stdout",
     "output_type": "stream",
     "text": [
      "[{'SEC': 2176.632183908046, '3PM': 2.3068181818181817, '3Ppct': 0.3284204545454546, 'FTpct': 0.6896363636363637, 'ORB': 1.1704545454545454, 'TRB': 6.488636363636363, 'AST': 3.409090909090909, 'STL': 1.0909090909090908, 'BLK': 0.38636363636363635, 'TOV': 2.9886363636363638, 'PTS': 25.420454545454547, 'plusminusPTS': 3.3863636363636362}]\n"
     ]
    }
   ],
   "source": [
    "lod=[]\n",
    "lod.append(jbDict)\n",
    "print(lod)"
   ]
  },
  {
   "cell_type": "code",
   "execution_count": 60,
   "metadata": {},
   "outputs": [
    {
     "data": {
      "text/html": [
       "<div>\n",
       "<style scoped>\n",
       "    .dataframe tbody tr th:only-of-type {\n",
       "        vertical-align: middle;\n",
       "    }\n",
       "\n",
       "    .dataframe tbody tr th {\n",
       "        vertical-align: top;\n",
       "    }\n",
       "\n",
       "    .dataframe thead th {\n",
       "        text-align: right;\n",
       "    }\n",
       "</style>\n",
       "<table border=\"1\" class=\"dataframe\">\n",
       "  <thead>\n",
       "    <tr style=\"text-align: right;\">\n",
       "      <th></th>\n",
       "      <th>SEC</th>\n",
       "      <th>3PM</th>\n",
       "      <th>3Ppct</th>\n",
       "      <th>FTpct</th>\n",
       "      <th>ORB</th>\n",
       "      <th>TRB</th>\n",
       "      <th>AST</th>\n",
       "      <th>STL</th>\n",
       "      <th>BLK</th>\n",
       "      <th>TOV</th>\n",
       "      <th>PTS</th>\n",
       "      <th>plusminusPTS</th>\n",
       "    </tr>\n",
       "  </thead>\n",
       "  <tbody>\n",
       "    <tr>\n",
       "      <th>0</th>\n",
       "      <td>2176.632184</td>\n",
       "      <td>2.306818</td>\n",
       "      <td>0.32842</td>\n",
       "      <td>0.689636</td>\n",
       "      <td>1.170455</td>\n",
       "      <td>6.488636</td>\n",
       "      <td>3.409091</td>\n",
       "      <td>1.090909</td>\n",
       "      <td>0.386364</td>\n",
       "      <td>2.988636</td>\n",
       "      <td>25.420455</td>\n",
       "      <td>3.386364</td>\n",
       "    </tr>\n",
       "  </tbody>\n",
       "</table>\n",
       "</div>"
      ],
      "text/plain": [
       "           SEC       3PM    3Ppct     FTpct       ORB       TRB       AST  \\\n",
       "0  2176.632184  2.306818  0.32842  0.689636  1.170455  6.488636  3.409091   \n",
       "\n",
       "        STL       BLK       TOV        PTS  plusminusPTS  \n",
       "0  1.090909  0.386364  2.988636  25.420455      3.386364  "
      ]
     },
     "execution_count": 60,
     "metadata": {},
     "output_type": "execute_result"
    }
   ],
   "source": [
    "pd.DataFrame(lod)"
   ]
  },
  {
   "cell_type": "code",
   "execution_count": 1,
   "metadata": {},
   "outputs": [],
   "source": [
    "#..........................................................................................."
   ]
  },
  {
   "cell_type": "code",
   "execution_count": null,
   "metadata": {},
   "outputs": [],
   "source": []
  }
 ],
 "metadata": {
  "kernelspec": {
   "display_name": "myenv",
   "language": "python",
   "name": "python3"
  },
  "language_info": {
   "codemirror_mode": {
    "name": "ipython",
    "version": 3
   },
   "file_extension": ".py",
   "mimetype": "text/x-python",
   "name": "python",
   "nbconvert_exporter": "python",
   "pygments_lexer": "ipython3",
   "version": "3.10.13"
  }
 },
 "nbformat": 4,
 "nbformat_minor": 2
}
